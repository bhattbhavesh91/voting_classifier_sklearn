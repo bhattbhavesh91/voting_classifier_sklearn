{
  "nbformat": 4,
  "nbformat_minor": 0,
  "metadata": {
    "colab": {
      "name": "Voting_Classifier.ipynb",
      "version": "0.3.2",
      "provenance": [],
      "collapsed_sections": []
    },
    "kernelspec": {
      "name": "python3",
      "display_name": "Python 3"
    }
  },
  "cells": [
    {
      "metadata": {
        "id": "52YgYuNEosxA",
        "colab_type": "code",
        "colab": {}
      },
      "cell_type": "code",
      "source": [
        "import numpy as np\n",
        "import warnings\n",
        "from sklearn import datasets\n",
        "from sklearn import model_selection\n",
        "from sklearn.ensemble import RandomForestClassifier\n",
        "from sklearn.ensemble import VotingClassifier\n",
        "from sklearn.linear_model import LogisticRegression\n",
        "from sklearn.naive_bayes import GaussianNB \n",
        "warnings.filterwarnings(\"ignore\")"
      ],
      "execution_count": 0,
      "outputs": []
    },
    {
      "metadata": {
        "id": "fS98JhO2o5tQ",
        "colab_type": "code",
        "colab": {}
      },
      "cell_type": "code",
      "source": [
        "iris = datasets.load_iris()\n",
        "X, y = iris.data[:, 1:3], iris.target"
      ],
      "execution_count": 0,
      "outputs": []
    },
    {
      "metadata": {
        "id": "WPoh2JeEozK3",
        "colab_type": "code",
        "outputId": "2d1d85d2-a8af-419e-ce8a-05606b37769a",
        "colab": {
          "base_uri": "https://localhost:8080/",
          "height": 104
        }
      },
      "cell_type": "code",
      "source": [
        "clf1 = LogisticRegression(random_state=1)\n",
        "clf2 = RandomForestClassifier(random_state=1)\n",
        "clf3 = GaussianNB()\n",
        "\n",
        "print('5-fold cross validation:\\n')\n",
        "\n",
        "labels = ['Logistic Regression', 'Random Forest', 'Naive Bayes']\n",
        "\n",
        "for clf, label in zip([clf1, clf2, clf3], labels):\n",
        "\n",
        "    scores = model_selection.cross_val_score(clf, X, y, \n",
        "                                              cv=5, \n",
        "                                              scoring='accuracy')\n",
        "    print(\"Accuracy: %0.2f (+/- %0.2f) [%s]\"\n",
        "          % (scores.mean(), scores.std(), label))"
      ],
      "execution_count": 0,
      "outputs": [
        {
          "output_type": "stream",
          "text": [
            "5-fold cross validation:\n",
            "\n",
            "Accuracy: 0.90 (+/- 0.05) [Logistic Regression]\n",
            "Accuracy: 0.93 (+/- 0.05) [Random Forest]\n",
            "Accuracy: 0.91 (+/- 0.04) [Naive Bayes]\n"
          ],
          "name": "stdout"
        }
      ]
    },
    {
      "metadata": {
        "id": "VU-AaVY5pg-r",
        "colab_type": "code",
        "colab": {}
      },
      "cell_type": "code",
      "source": [
        "voting_clf_hard = VotingClassifier(estimators = [(labels[0], clf1),\n",
        "                                                 (labels[1], clf2),\n",
        "                                                 (labels[2], clf3)],\n",
        "                                   voting = 'hard')"
      ],
      "execution_count": 0,
      "outputs": []
    },
    {
      "metadata": {
        "id": "hDfm_TC1qIrz",
        "colab_type": "code",
        "colab": {}
      },
      "cell_type": "code",
      "source": [
        "voting_clf_soft = VotingClassifier(estimators = [(labels[0], clf1),\n",
        "                                                 (labels[1], clf2),\n",
        "                                                 (labels[2], clf3)],\n",
        "                                   voting = 'soft')"
      ],
      "execution_count": 0,
      "outputs": []
    },
    {
      "metadata": {
        "id": "NKQwEvAsqVfe",
        "colab_type": "code",
        "outputId": "56047f47-1887-4ef8-d68f-179bb994f7f6",
        "colab": {
          "base_uri": "https://localhost:8080/",
          "height": 104
        }
      },
      "cell_type": "code",
      "source": [
        "labels_new = ['Logistic Regression', 'Random Forest', 'Naive Bayes',\n",
        "              'Voting_Classifier_Hard', 'Voting_Classifier_Soft']\n",
        "\n",
        "for (clf, label) in zip([clf1, clf2, clf3, voting_clf_hard,\n",
        "                        voting_clf_soft], labels_new):\n",
        "    scores = model_selection.cross_val_score(clf, X, y, cv=5,\n",
        "            scoring='accuracy')\n",
        "    print(\"Accuracy: %0.2f (+/- %0.2f) [%s]\"\n",
        "          % (scores.mean(), scores.std(), label))"
      ],
      "execution_count": 0,
      "outputs": [
        {
          "output_type": "stream",
          "text": [
            "Accuracy: 0.90 (+/- 0.05) [Logistic Regression]\n",
            "Accuracy: 0.93 (+/- 0.05) [Random Forest]\n",
            "Accuracy: 0.91 (+/- 0.04) [Naive Bayes]\n",
            "Accuracy: 0.95 (+/- 0.05) [Voting_Classifier_Hard]\n",
            "Accuracy: 0.95 (+/- 0.04) [Voting_Classifier_Soft]\n"
          ],
          "name": "stdout"
        }
      ]
    },
    {
      "metadata": {
        "id": "lRrvZ5QX8HNO",
        "colab_type": "code",
        "colab": {}
      },
      "cell_type": "code",
      "source": [
        ""
      ],
      "execution_count": 0,
      "outputs": []
    }
  ]
}